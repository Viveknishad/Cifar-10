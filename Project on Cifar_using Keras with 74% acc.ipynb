{
 "cells": [
  {
   "cell_type": "code",
   "execution_count": 1,
   "metadata": {},
   "outputs": [
    {
     "name": "stderr",
     "output_type": "stream",
     "text": [
      "Using TensorFlow backend.\n"
     ]
    }
   ],
   "source": [
    "import keras\n",
    "from keras.datasets import cifar10\n",
    "from keras.models import Sequential\n",
    "from keras.layers import Dense, Dropout, Activation, Flatten\n",
    "from keras.layers import Conv2D, MaxPooling2D\n",
    "import numpy as np\n",
    "import tensorflow as tf\n",
    "from keras.utils import to_categorical"
   ]
  },
  {
   "cell_type": "code",
   "execution_count": 2,
   "metadata": {},
   "outputs": [],
   "source": [
    "# The data, split between train and test sets:\n",
    "(x_train, y_train), (x_test, y_test) = cifar10.load_data()\n"
   ]
  },
  {
   "cell_type": "code",
   "execution_count": 3,
   "metadata": {},
   "outputs": [
    {
     "name": "stdout",
     "output_type": "stream",
     "text": [
      "x_train shape: (50000, 32, 32, 3)\n",
      "(50000, 32, 32, 3)\n",
      "(10000, 32, 32, 3)\n",
      "(50000, 10) (10000, 10)\n"
     ]
    }
   ],
   "source": [
    "print('x_train shape:', x_train.shape)\n",
    "\n",
    "x_train = x_train.reshape(x_train.shape[0], 32, 32, 3)\n",
    "x_test = x_test.reshape(x_test.shape[0], 32, 32, 3)\n",
    "\n",
    "print(x_train.shape)\n",
    "print(x_test.shape)\n",
    "\n",
    "num_classes=10\n",
    "\n",
    "y_train = to_categorical(y_train, num_classes)\n",
    "y_test = to_categorical(y_test, num_classes)\n",
    "\n",
    "print(y_train.shape,y_test.shape)\n",
    "\n",
    "x_train = x_train.astype('float32')\n",
    "x_test = x_test.astype('float32')\n",
    "x_train /= 255\n",
    "x_test /= 255\n",
    "\n",
    "input_shape = (32, 32, 3)"
   ]
  },
  {
   "cell_type": "code",
   "execution_count": 4,
   "metadata": {},
   "outputs": [
    {
     "data": {
      "text/plain": [
       "array([[0., 0., 0., ..., 0., 0., 0.],\n",
       "       [0., 0., 0., ..., 0., 1., 0.],\n",
       "       [0., 0., 0., ..., 0., 1., 0.],\n",
       "       ...,\n",
       "       [0., 0., 0., ..., 0., 0., 0.],\n",
       "       [0., 1., 0., ..., 0., 0., 0.],\n",
       "       [0., 0., 0., ..., 1., 0., 0.]], dtype=float32)"
      ]
     },
     "execution_count": 4,
     "metadata": {},
     "output_type": "execute_result"
    }
   ],
   "source": [
    "y_test"
   ]
  },
  {
   "cell_type": "code",
   "execution_count": 5,
   "metadata": {},
   "outputs": [],
   "source": [
    "model=Sequential()"
   ]
  },
  {
   "cell_type": "code",
   "execution_count": 6,
   "metadata": {},
   "outputs": [
    {
     "name": "stdout",
     "output_type": "stream",
     "text": [
      "WARNING:tensorflow:From C:\\Users\\Vivek Nishad\\Anaconda3\\lib\\site-packages\\tensorflow\\python\\framework\\op_def_library.py:263: colocate_with (from tensorflow.python.framework.ops) is deprecated and will be removed in a future version.\n",
      "Instructions for updating:\n",
      "Colocations handled automatically by placer.\n",
      "WARNING:tensorflow:From C:\\Users\\Vivek Nishad\\Anaconda3\\lib\\site-packages\\keras\\backend\\tensorflow_backend.py:3445: calling dropout (from tensorflow.python.ops.nn_ops) with keep_prob is deprecated and will be removed in a future version.\n",
      "Instructions for updating:\n",
      "Please use `rate` instead of `keep_prob`. Rate should be set to `rate = 1 - keep_prob`.\n"
     ]
    }
   ],
   "source": [
    "# Creating a Sequential Model and adding the layers\n",
    "model.add(Conv2D(filters = 32, kernel_size = (5,5),padding = 'Same', activation ='relu', input_shape = input_shape))\n",
    "model.add(Conv2D(filters = 32, kernel_size = (5,5),padding = 'Same', activation ='relu'))\n",
    "model.add(MaxPooling2D(pool_size=(2,2)))\n",
    "model.add(Dropout(0.25))\n",
    "\n",
    "\n",
    "model.add(Conv2D(filters = 64, kernel_size = (3,3),padding = 'Same', activation ='relu'))\n",
    "model.add(Conv2D(filters = 64, kernel_size = (3,3),padding = 'Same', activation ='relu'))\n",
    "model.add(MaxPooling2D(pool_size=(2,2), strides=(2,2)))\n",
    "model.add(Dropout(0.25))\n",
    "\n",
    "\n",
    "model.add(Flatten())\n",
    "model.add(Dense(256, activation = \"relu\"))\n",
    "model.add(Dropout(0.5))\n",
    "model.add(Dense(10, activation = \"softmax\"))"
   ]
  },
  {
   "cell_type": "code",
   "execution_count": 7,
   "metadata": {},
   "outputs": [
    {
     "name": "stdout",
     "output_type": "stream",
     "text": [
      "WARNING:tensorflow:From C:\\Users\\Vivek Nishad\\Anaconda3\\lib\\site-packages\\tensorflow\\python\\ops\\math_ops.py:3066: to_int32 (from tensorflow.python.ops.math_ops) is deprecated and will be removed in a future version.\n",
      "Instructions for updating:\n",
      "Use tf.cast instead.\n",
      "Epoch 1/20\n",
      "50000/50000 [==============================] - 219s 4ms/step - loss: 1.9554 - acc: 0.2812\n",
      "Epoch 2/20\n",
      "50000/50000 [==============================] - 259s 5ms/step - loss: 1.5783 - acc: 0.4278\n",
      "Epoch 3/20\n",
      "50000/50000 [==============================] - 245s 5ms/step - loss: 1.4104 - acc: 0.4895\n",
      "Epoch 4/20\n",
      "50000/50000 [==============================] - 248s 5ms/step - loss: 1.3274 - acc: 0.5240\n",
      "Epoch 5/20\n",
      "50000/50000 [==============================] - 248s 5ms/step - loss: 1.2400 - acc: 0.5561\n",
      "Epoch 6/20\n",
      "50000/50000 [==============================] - 252s 5ms/step - loss: 1.1643 - acc: 0.5863\n",
      "Epoch 7/20\n",
      "50000/50000 [==============================] - 248s 5ms/step - loss: 1.0926 - acc: 0.6149\n",
      "Epoch 8/20\n",
      "50000/50000 [==============================] - 249s 5ms/step - loss: 1.0552 - acc: 0.6252\n",
      "Epoch 9/20\n",
      "50000/50000 [==============================] - 247s 5ms/step - loss: 0.9981 - acc: 0.6467\n",
      "Epoch 10/20\n",
      "50000/50000 [==============================] - 247s 5ms/step - loss: 0.9614 - acc: 0.6624\n",
      "Epoch 11/20\n",
      "50000/50000 [==============================] - 247s 5ms/step - loss: 0.9428 - acc: 0.6676\n",
      "Epoch 12/20\n",
      "50000/50000 [==============================] - 250s 5ms/step - loss: 0.8942 - acc: 0.6856\n",
      "Epoch 13/20\n",
      "50000/50000 [==============================] - 247s 5ms/step - loss: 0.8646 - acc: 0.6956\n",
      "Epoch 14/20\n",
      "50000/50000 [==============================] - 247s 5ms/step - loss: 0.8296 - acc: 0.7079\n",
      "Epoch 15/20\n",
      "50000/50000 [==============================] - 251s 5ms/step - loss: 0.7982 - acc: 0.7185\n",
      "Epoch 16/20\n",
      "50000/50000 [==============================] - 252s 5ms/step - loss: 0.7813 - acc: 0.7272\n",
      "Epoch 17/20\n",
      "50000/50000 [==============================] - 247s 5ms/step - loss: 0.7578 - acc: 0.7312\n",
      "Epoch 18/20\n",
      "50000/50000 [==============================] - 248s 5ms/step - loss: 0.7332 - acc: 0.7407\n",
      "Epoch 19/20\n",
      "50000/50000 [==============================] - 244s 5ms/step - loss: 0.7139 - acc: 0.7490\n",
      "Epoch 20/20\n",
      "50000/50000 [==============================] - 250s 5ms/step - loss: 0.6964 - acc: 0.7550\n"
     ]
    },
    {
     "data": {
      "text/plain": [
       "<keras.callbacks.History at 0x23ab353d320>"
      ]
     },
     "execution_count": 7,
     "metadata": {},
     "output_type": "execute_result"
    }
   ],
   "source": [
    "model.compile(optimizer='adam', \n",
    "              loss='categorical_crossentropy', \n",
    "              metrics=['accuracy'])\n",
    "model.fit(x=x_train,y=y_train, epochs=20,batch_size=1024)"
   ]
  },
  {
   "cell_type": "code",
   "execution_count": 8,
   "metadata": {},
   "outputs": [
    {
     "name": "stdout",
     "output_type": "stream",
     "text": [
      "10000/10000 [==============================] - 33s 3ms/step\n"
     ]
    },
    {
     "data": {
      "text/plain": [
       "[0.7239690097808837, 0.7485]"
      ]
     },
     "execution_count": 8,
     "metadata": {},
     "output_type": "execute_result"
    }
   ],
   "source": [
    "pre=model.predict(x_test)\n",
    "model.evaluate(x_test, y_test)"
   ]
  },
  {
   "cell_type": "code",
   "execution_count": 9,
   "metadata": {},
   "outputs": [],
   "source": [
    "new_pre3=pre"
   ]
  },
  {
   "cell_type": "code",
   "execution_count": 10,
   "metadata": {},
   "outputs": [],
   "source": [
    "new_pre3=np.round(new_pre3)"
   ]
  },
  {
   "cell_type": "code",
   "execution_count": 11,
   "metadata": {},
   "outputs": [],
   "source": [
    "new_pre3=np.argmax(new_pre3, axis =1)"
   ]
  },
  {
   "cell_type": "code",
   "execution_count": 12,
   "metadata": {},
   "outputs": [],
   "source": [
    "import pandas as pd\n",
    "new_pre3=pd.DataFrame(new_pre3)\n",
    "new_pre3.columns=['A']"
   ]
  },
  {
   "cell_type": "code",
   "execution_count": 13,
   "metadata": {},
   "outputs": [
    {
     "data": {
      "text/html": [
       "<div>\n",
       "<style scoped>\n",
       "    .dataframe tbody tr th:only-of-type {\n",
       "        vertical-align: middle;\n",
       "    }\n",
       "\n",
       "    .dataframe tbody tr th {\n",
       "        vertical-align: top;\n",
       "    }\n",
       "\n",
       "    .dataframe thead th {\n",
       "        text-align: right;\n",
       "    }\n",
       "</style>\n",
       "<table border=\"1\" class=\"dataframe\">\n",
       "  <thead>\n",
       "    <tr style=\"text-align: right;\">\n",
       "      <th></th>\n",
       "      <th>A</th>\n",
       "    </tr>\n",
       "  </thead>\n",
       "  <tbody>\n",
       "    <tr>\n",
       "      <th>0</th>\n",
       "      <td>3</td>\n",
       "    </tr>\n",
       "    <tr>\n",
       "      <th>1</th>\n",
       "      <td>8</td>\n",
       "    </tr>\n",
       "    <tr>\n",
       "      <th>2</th>\n",
       "      <td>8</td>\n",
       "    </tr>\n",
       "    <tr>\n",
       "      <th>3</th>\n",
       "      <td>0</td>\n",
       "    </tr>\n",
       "    <tr>\n",
       "      <th>4</th>\n",
       "      <td>6</td>\n",
       "    </tr>\n",
       "  </tbody>\n",
       "</table>\n",
       "</div>"
      ],
      "text/plain": [
       "   A\n",
       "0  3\n",
       "1  8\n",
       "2  8\n",
       "3  0\n",
       "4  6"
      ]
     },
     "execution_count": 13,
     "metadata": {},
     "output_type": "execute_result"
    }
   ],
   "source": [
    "new_pre3.head()"
   ]
  },
  {
   "cell_type": "code",
   "execution_count": 14,
   "metadata": {},
   "outputs": [],
   "source": [
    "#function for changing values in the Embarked Column\n",
    "\n",
    "def Emb(a):\n",
    "    if a==0:\n",
    "        return \"airplane\"\n",
    "    elif a==1:\n",
    "        return \"automobile\"\n",
    "    elif a==2:\n",
    "        return \"bird\"\n",
    "    elif a==3:\n",
    "        return \"cat\"\n",
    "    elif a==4:\n",
    "        return \"deer\"\n",
    "    elif a==5:\n",
    "        return \"dog\"\n",
    "    elif a==6:\n",
    "        return \"frog\"\n",
    "    elif a==7:\n",
    "        return \"horse\"\n",
    "    elif a==8:\n",
    "        return \"ship\"\n",
    "    else:\n",
    "        return \"truck\"\n",
    "\n",
    "new_pre3['A']=new_pre3['A'].apply(Emb)"
   ]
  },
  {
   "cell_type": "code",
   "execution_count": 15,
   "metadata": {},
   "outputs": [
    {
     "name": "stdout",
     "output_type": "stream",
     "text": [
      "airplane      2600\n",
      "truck         1051\n",
      "ship           928\n",
      "automobile     910\n",
      "deer           895\n",
      "horse          893\n",
      "frog           870\n",
      "dog            708\n",
      "bird           646\n",
      "cat            499\n",
      "Name: A, dtype: int64\n"
     ]
    },
    {
     "data": {
      "text/plain": [
       "((10000, 1), None)"
      ]
     },
     "execution_count": 15,
     "metadata": {},
     "output_type": "execute_result"
    }
   ],
   "source": [
    "new_pre3.shape,print(new_pre3.A.value_counts())"
   ]
  }
 ],
 "metadata": {
  "kernelspec": {
   "display_name": "Python 3",
   "language": "python",
   "name": "python3"
  },
  "language_info": {
   "codemirror_mode": {
    "name": "ipython",
    "version": 3
   },
   "file_extension": ".py",
   "mimetype": "text/x-python",
   "name": "python",
   "nbconvert_exporter": "python",
   "pygments_lexer": "ipython3",
   "version": "3.7.1"
  }
 },
 "nbformat": 4,
 "nbformat_minor": 2
}
